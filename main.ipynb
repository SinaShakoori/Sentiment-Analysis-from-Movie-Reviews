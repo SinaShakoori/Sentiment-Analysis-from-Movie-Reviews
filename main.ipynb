{
 "cells": [
  {
   "cell_type": "markdown",
   "id": "ef01fc95",
   "metadata": {},
   "source": [
    "dataset = https://www.kaggle.com/datasets/lakshmi25npathi/imdb-dataset-of-50k-movie-reviews"
   ]
  },
  {
   "cell_type": "code",
   "execution_count": 2,
   "id": "97fb374c",
   "metadata": {},
   "outputs": [],
   "source": [
    "import pandas as pd"
   ]
  },
  {
   "cell_type": "code",
   "execution_count": 3,
   "id": "c258b61f",
   "metadata": {},
   "outputs": [
    {
     "data": {
      "text/plain": [
       "(50000, 2)"
      ]
     },
     "execution_count": 3,
     "metadata": {},
     "output_type": "execute_result"
    }
   ],
   "source": [
    "df = pd.read_csv(\"IMDB Dataset.csv\")\n",
    "df.shape"
   ]
  },
  {
   "cell_type": "code",
   "execution_count": 4,
   "id": "bc5e7cd8",
   "metadata": {},
   "outputs": [
    {
     "data": {
      "text/plain": [
       "sentiment\n",
       "positive    25000\n",
       "negative    25000\n",
       "Name: count, dtype: int64"
      ]
     },
     "execution_count": 4,
     "metadata": {},
     "output_type": "execute_result"
    }
   ],
   "source": [
    "df['sentiment'].value_counts()"
   ]
  },
  {
   "cell_type": "code",
   "execution_count": 6,
   "id": "183b597f",
   "metadata": {},
   "outputs": [
    {
     "data": {
      "text/html": [
       "<div>\n",
       "<style scoped>\n",
       "    .dataframe tbody tr th:only-of-type {\n",
       "        vertical-align: middle;\n",
       "    }\n",
       "\n",
       "    .dataframe tbody tr th {\n",
       "        vertical-align: top;\n",
       "    }\n",
       "\n",
       "    .dataframe thead th {\n",
       "        text-align: right;\n",
       "    }\n",
       "</style>\n",
       "<table border=\"1\" class=\"dataframe\">\n",
       "  <thead>\n",
       "    <tr style=\"text-align: right;\">\n",
       "      <th></th>\n",
       "      <th>review</th>\n",
       "      <th>sentiment</th>\n",
       "    </tr>\n",
       "  </thead>\n",
       "  <tbody>\n",
       "    <tr>\n",
       "      <th>0</th>\n",
       "      <td>One of the other reviewers has mentioned that ...</td>\n",
       "      <td>positive</td>\n",
       "    </tr>\n",
       "    <tr>\n",
       "      <th>1</th>\n",
       "      <td>A wonderful little production. &lt;br /&gt;&lt;br /&gt;The...</td>\n",
       "      <td>positive</td>\n",
       "    </tr>\n",
       "    <tr>\n",
       "      <th>2</th>\n",
       "      <td>I thought this was a wonderful way to spend ti...</td>\n",
       "      <td>positive</td>\n",
       "    </tr>\n",
       "    <tr>\n",
       "      <th>3</th>\n",
       "      <td>Basically there's a family where a little boy ...</td>\n",
       "      <td>negative</td>\n",
       "    </tr>\n",
       "    <tr>\n",
       "      <th>4</th>\n",
       "      <td>Petter Mattei's \"Love in the Time of Money\" is...</td>\n",
       "      <td>positive</td>\n",
       "    </tr>\n",
       "  </tbody>\n",
       "</table>\n",
       "</div>"
      ],
      "text/plain": [
       "                                              review sentiment\n",
       "0  One of the other reviewers has mentioned that ...  positive\n",
       "1  A wonderful little production. <br /><br />The...  positive\n",
       "2  I thought this was a wonderful way to spend ti...  positive\n",
       "3  Basically there's a family where a little boy ...  negative\n",
       "4  Petter Mattei's \"Love in the Time of Money\" is...  positive"
      ]
     },
     "execution_count": 6,
     "metadata": {},
     "output_type": "execute_result"
    }
   ],
   "source": [
    "df.head()"
   ]
  },
  {
   "cell_type": "code",
   "execution_count": 7,
   "id": "2a52d6bf",
   "metadata": {},
   "outputs": [
    {
     "name": "stderr",
     "output_type": "stream",
     "text": [
      "[nltk_data] Downloading package stopwords to C:\\Users\\Sina's\n",
      "[nltk_data]     Pc/nltk_data...\n",
      "[nltk_data]   Package stopwords is already up-to-date!\n"
     ]
    },
    {
     "data": {
      "text/plain": [
       "True"
      ]
     },
     "execution_count": 7,
     "metadata": {},
     "output_type": "execute_result"
    }
   ],
   "source": [
    "import nltk\n",
    "nltk.download('stopwords') "
   ]
  },
  {
   "cell_type": "code",
   "execution_count": 8,
   "id": "02c27f14",
   "metadata": {},
   "outputs": [],
   "source": [
    "import re\n",
    "from nltk.corpus import stopwords\n",
    "from nltk.stem import PorterStemmer"
   ]
  },
  {
   "cell_type": "code",
   "execution_count": 9,
   "id": "4bb0b521",
   "metadata": {},
   "outputs": [],
   "source": [
    "stop_words = set(stopwords.words('english'))\n",
    "stemmer = PorterStemmer()"
   ]
  },
  {
   "cell_type": "code",
   "execution_count": 10,
   "id": "788b070c",
   "metadata": {},
   "outputs": [],
   "source": [
    "def preprocess_text(text):\n",
    "    # حذف تگ‌های HTML\n",
    "    text = re.sub('<.*?>', ' ', text)\n",
    "    # حذف نویسه‌های غیرحرفی (اعداد، علائم نگارشی و غیره)\n",
    "    text = re.sub('[^a-zA-Z]', ' ', text)\n",
    "    # تبدیل به حروف کوچک\n",
    "    text = text.lower()\n",
    "    # جداسازی کلمات و حذف کلمات توقف\n",
    "    words = [w for w in text.split() if w not in stop_words]\n",
    "    # اعمال استمینگ بر هر کلمه\n",
    "    words = [stemmer.stem(w) for w in words]\n",
    "    # بازگرداندن متن پیش‌پردازش‌شده\n",
    "    return ' '.join(words)\n",
    "\n",
    "# اعمال پیش‌پردازش روی ستون review\n",
    "df['clean_review'] = df['review'].apply(preprocess_text)"
   ]
  },
  {
   "cell_type": "code",
   "execution_count": 11,
   "id": "d09f34a3",
   "metadata": {},
   "outputs": [],
   "source": [
    "from sklearn.model_selection import train_test_split"
   ]
  },
  {
   "cell_type": "code",
   "execution_count": 12,
   "id": "80878715",
   "metadata": {},
   "outputs": [],
   "source": [
    "X_train, X_test, y_train, y_test = train_test_split(df['clean_review'], df['sentiment'], test_size=0.2, random_state=42)"
   ]
  },
  {
   "cell_type": "code",
   "execution_count": 13,
   "id": "2680d024",
   "metadata": {},
   "outputs": [],
   "source": [
    "from sklearn.feature_extraction.text import CountVectorizer, TfidfVectorizer"
   ]
  },
  {
   "cell_type": "code",
   "execution_count": 14,
   "id": "d10fe13c",
   "metadata": {},
   "outputs": [],
   "source": [
    "# بردارسازی با روش Bag-of-Words\n",
    "vectorizer_cv = CountVectorizer(max_features=5000)\n",
    "X_train_cv = vectorizer_cv.fit_transform(X_train)\n",
    "X_test_cv  = vectorizer_cv.transform(X_test)\n",
    "\n",
    "# بردارسازی با روش TF-IDF\n",
    "vectorizer_tfidf = TfidfVectorizer(max_features=5000)\n",
    "X_train_tfidf = vectorizer_tfidf.fit_transform(X_train)\n",
    "X_test_tfidf  = vectorizer_tfidf.transform(X_test)"
   ]
  },
  {
   "cell_type": "markdown",
   "id": "f720c8a2",
   "metadata": {},
   "source": [
    "Multinomial Naive Bayes"
   ]
  },
  {
   "cell_type": "code",
   "execution_count": 15,
   "id": "1057f7cf",
   "metadata": {},
   "outputs": [],
   "source": [
    "from sklearn.naive_bayes import MultinomialNB"
   ]
  },
  {
   "cell_type": "code",
   "execution_count": 16,
   "id": "4a3c83d1",
   "metadata": {},
   "outputs": [],
   "source": [
    "# آموزش Multinomial Naive Bayes با ویژگی‌های BoW\n",
    "nb_cv = MultinomialNB()\n",
    "nb_cv.fit(X_train_cv, y_train)\n",
    "y_pred_nb_cv = nb_cv.predict(X_test_cv)\n",
    "\n",
    "# آموزش Multinomial Naive Bayes با ویژگی‌های TF-IDF\n",
    "nb_tfidf = MultinomialNB()\n",
    "nb_tfidf.fit(X_train_tfidf, y_train)\n",
    "y_pred_nb_tfidf = nb_tfidf.predict(X_test_tfidf)"
   ]
  },
  {
   "cell_type": "markdown",
   "id": "fbc490a3",
   "metadata": {},
   "source": [
    " Logistic Regression"
   ]
  },
  {
   "cell_type": "code",
   "execution_count": 17,
   "id": "b1474558",
   "metadata": {},
   "outputs": [],
   "source": [
    "from sklearn.linear_model import LogisticRegression"
   ]
  },
  {
   "cell_type": "code",
   "execution_count": 18,
   "id": "3c7ac4c4",
   "metadata": {},
   "outputs": [],
   "source": [
    "# آموزش Logistic Regression با ویژگی‌های BoW\n",
    "lr_cv = LogisticRegression(max_iter=1000)\n",
    "lr_cv.fit(X_train_cv, y_train)\n",
    "y_pred_lr_cv = lr_cv.predict(X_test_cv)\n",
    "\n",
    "# آموزش Logistic Regression با ویژگی‌های TF-IDF\n",
    "lr_tfidf = LogisticRegression(max_iter=1000)\n",
    "lr_tfidf.fit(X_train_tfidf, y_train)\n",
    "y_pred_lr_tfidf = lr_tfidf.predict(X_test_tfidf)\n"
   ]
  },
  {
   "cell_type": "code",
   "execution_count": 19,
   "id": "1e377a08",
   "metadata": {},
   "outputs": [
    {
     "name": "stdout",
     "output_type": "stream",
     "text": [
      "Naive Bayes (BoW) - Accuracy: 0.8489\n",
      "Confusion Matrix:\n",
      " [[4236  725]\n",
      " [ 786 4253]]\n",
      "AUC: 0.9124396728296948\n",
      "\n",
      "Logistic Regression (TF-IDF) - Accuracy: 0.8869\n",
      "Confusion Matrix:\n",
      " [[4320  641]\n",
      " [ 490 4549]]\n",
      "AUC: 0.9571544332757205\n"
     ]
    }
   ],
   "source": [
    "from sklearn.metrics import accuracy_score, confusion_matrix, roc_auc_score, roc_curve\n",
    "import matplotlib.pyplot as plt\n",
    "\n",
    "# محاسبه Accuracy و Confusion Matrix برای Naive Bayes با BoW\n",
    "acc_nb_cv = accuracy_score(y_test, y_pred_nb_cv)\n",
    "cm_nb_cv  = confusion_matrix(y_test, y_pred_nb_cv)\n",
    "auc_nb_cv = roc_auc_score(y_test, nb_cv.predict_proba(X_test_cv)[:,1])\n",
    "\n",
    "print(\"Naive Bayes (BoW) - Accuracy:\", acc_nb_cv)\n",
    "print(\"Confusion Matrix:\\n\", cm_nb_cv)\n",
    "print(\"AUC:\", auc_nb_cv)\n",
    "\n",
    "# محاسبه Accuracy و Confusion Matrix برای Logistic Regression با TF-IDF\n",
    "acc_lr_tfidf = accuracy_score(y_test, y_pred_lr_tfidf)\n",
    "cm_lr_tfidf  = confusion_matrix(y_test, y_pred_lr_tfidf)\n",
    "auc_lr_tfidf = roc_auc_score(y_test, lr_tfidf.predict_proba(X_test_tfidf)[:,1])\n",
    "\n",
    "print(\"\\nLogistic Regression (TF-IDF) - Accuracy:\", acc_lr_tfidf)\n",
    "print(\"Confusion Matrix:\\n\", cm_lr_tfidf)\n",
    "print(\"AUC:\", auc_lr_tfidf)\n"
   ]
  },
  {
   "cell_type": "code",
   "execution_count": 22,
   "id": "dc33335b",
   "metadata": {},
   "outputs": [
    {
     "data": {
      "image/png": "[encoded data removed]",
      "text/plain": [
       "<Figure size 600x400 with 1 Axes>"
      ]
     },
     "metadata": {},
     "output_type": "display_data"
    }
   ],
   "source": [
    "# تبدیل برچسب‌ها از رشته‌ای به عددی\n",
    "from sklearn.preprocessing import LabelEncoder\n",
    "\n",
    "label_encoder = LabelEncoder()\n",
    "y_test_binary = label_encoder.fit_transform(y_test)  # negative → 0, positive → 1\n",
    "\n",
    "# حالا محاسبه AUC و رسم منحنی ROC بدون خطا\n",
    "from sklearn.metrics import roc_curve, auc\n",
    "\n",
    "fpr, tpr, _ = roc_curve(y_test_binary, nb_cv.predict_proba(X_test_cv)[:,1])\n",
    "auc_score = auc(fpr, tpr)\n",
    "\n",
    "# رسم نمودار\n",
    "import matplotlib.pyplot as plt\n",
    "\n",
    "plt.figure(figsize=(6,4))\n",
    "plt.plot(fpr, tpr, label=f'ROC Curve (AUC = {auc_score:.2f})')\n",
    "plt.plot([0,1], [0,1], 'k--')\n",
    "plt.xlabel('False Positive Rate')\n",
    "plt.ylabel('True Positive Rate')\n",
    "plt.title('ROC Curve - Naive Bayes (BoW)')\n",
    "plt.legend()\n",
    "plt.grid()\n",
    "plt.show()\n"
   ]
  },
  {
   "cell_type": "code",
   "execution_count": null,
   "id": "9a3c0ecc",
   "metadata": {},
   "outputs": [
    {
     "name": "stdout",
     "output_type": "stream",
     "text": [
      "Predicted sentiment: positive\n"
     ]
    }
   ],
   "source": [
    "# نقد جدید\n",
    "new_review = [\"I hated the movie. It was boring and too long.\"]\n",
    "\n",
    "\n",
    "# پیش‌پردازش (همان روش قبلی)\n",
    "# فرض کنیم vectorizer همون CountVectorizer هست که قبلاً fit شده\n",
    "new_review_vectorized = vectorizer_cv.transform(new_review)\n",
    "\n",
    "# پیش‌بینی با مدل Naive Bayes\n",
    "prediction = nb_cv.predict(new_review_vectorized)\n",
    "\n",
    "# نمایش نتیجه\n",
    "print(\"Predicted sentiment:\", prediction[0])\n"
   ]
  },
  {
   "cell_type": "code",
   "execution_count": 43,
   "id": "29b454b5",
   "metadata": {},
   "outputs": [
    {
     "name": "stdout",
     "output_type": "stream",
     "text": [
      "Predicted sentiment: negative\n"
     ]
    }
   ],
   "source": [
    "# نقد جدید\n",
    "new_review = [\"NOT BAD\"]\n",
    "\n",
    "# وکتوریزه کردن با TF-IDF vectorizer آموزش‌دیده\n",
    "new_review_vectorized = vectorizer_tfidf.transform(new_review)\n",
    "\n",
    "# پیش‌بینی با مدل Logistic Regression\n",
    "prediction = lr_tfidf.predict(new_review_vectorized)\n",
    "\n",
    "# اگر لیبل‌ها هنوز متنی هستن مثل \"positive\" و \"negative\":\n",
    "print(\"Predicted sentiment:\", prediction[0])\n"
   ]
  },
  {
   "cell_type": "code",
   "execution_count": null,
   "id": "860b1655",
   "metadata": {},
   "outputs": [],
   "source": []
  }
 ],
 "metadata": {
  "kernelspec": {
   "display_name": "env",
   "language": "python",
   "name": "python3"
  },
  "language_info": {
   "codemirror_mode": {
    "name": "ipython",
    "version": 3
   },
   "file_extension": ".py",
   "mimetype": "text/x-python",
   "name": "python",
   "nbconvert_exporter": "python",
   "pygments_lexer": "ipython3",
   "version": "3.10.10"
  }
 },
 "nbformat": 4,
 "nbformat_minor": 5
}
