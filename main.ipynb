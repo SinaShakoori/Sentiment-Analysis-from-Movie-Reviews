{
 "cells": [
  {
   "cell_type": "markdown",
   "id": "ef01fc95",
   "metadata": {},
   "source": [
    "dataset = https://www.kaggle.com/datasets/lakshmi25npathi/imdb-dataset-of-50k-movie-reviews"
   ]
  },
  {
   "cell_type": "code",
   "execution_count": 31,
   "id": "97fb374c",
   "metadata": {},
   "outputs": [],
   "source": [
    "import pandas as pd"
   ]
  },
  {
   "cell_type": "code",
   "execution_count": 32,
   "id": "c258b61f",
   "metadata": {},
   "outputs": [
    {
     "data": {
      "text/plain": [
       "(50000, 2)"
      ]
     },
     "execution_count": 32,
     "metadata": {},
     "output_type": "execute_result"
    }
   ],
   "source": [
    "df = pd.read_csv(\"IMDB Dataset.csv\")\n",
    "df.shape"
   ]
  },
  {
   "cell_type": "code",
   "execution_count": 33,
   "id": "bc5e7cd8",
   "metadata": {},
   "outputs": [
    {
     "data": {
      "text/plain": [
       "sentiment\n",
       "positive    25000\n",
       "negative    25000\n",
       "Name: count, dtype: int64"
      ]
     },
     "execution_count": 33,
     "metadata": {},
     "output_type": "execute_result"
    }
   ],
   "source": [
    "df['sentiment'].value_counts()"
   ]
  },
  {
   "cell_type": "code",
   "execution_count": 34,
   "id": "183b597f",
   "metadata": {},
   "outputs": [
    {
     "data": {
      "text/html": [
       "<div>\n",
       "<style scoped>\n",
       "    .dataframe tbody tr th:only-of-type {\n",
       "        vertical-align: middle;\n",
       "    }\n",
       "\n",
       "    .dataframe tbody tr th {\n",
       "        vertical-align: top;\n",
       "    }\n",
       "\n",
       "    .dataframe thead th {\n",
       "        text-align: right;\n",
       "    }\n",
       "</style>\n",
       "<table border=\"1\" class=\"dataframe\">\n",
       "  <thead>\n",
       "    <tr style=\"text-align: right;\">\n",
       "      <th></th>\n",
       "      <th>review</th>\n",
       "      <th>sentiment</th>\n",
       "    </tr>\n",
       "  </thead>\n",
       "  <tbody>\n",
       "    <tr>\n",
       "      <th>0</th>\n",
       "      <td>One of the other reviewers has mentioned that ...</td>\n",
       "      <td>positive</td>\n",
       "    </tr>\n",
       "    <tr>\n",
       "      <th>1</th>\n",
       "      <td>A wonderful little production. &lt;br /&gt;&lt;br /&gt;The...</td>\n",
       "      <td>positive</td>\n",
       "    </tr>\n",
       "    <tr>\n",
       "      <th>2</th>\n",
       "      <td>I thought this was a wonderful way to spend ti...</td>\n",
       "      <td>positive</td>\n",
       "    </tr>\n",
       "    <tr>\n",
       "      <th>3</th>\n",
       "      <td>Basically there's a family where a little boy ...</td>\n",
       "      <td>negative</td>\n",
       "    </tr>\n",
       "    <tr>\n",
       "      <th>4</th>\n",
       "      <td>Petter Mattei's \"Love in the Time of Money\" is...</td>\n",
       "      <td>positive</td>\n",
       "    </tr>\n",
       "  </tbody>\n",
       "</table>\n",
       "</div>"
      ],
      "text/plain": [
       "                                              review sentiment\n",
       "0  One of the other reviewers has mentioned that ...  positive\n",
       "1  A wonderful little production. <br /><br />The...  positive\n",
       "2  I thought this was a wonderful way to spend ti...  positive\n",
       "3  Basically there's a family where a little boy ...  negative\n",
       "4  Petter Mattei's \"Love in the Time of Money\" is...  positive"
      ]
     },
     "execution_count": 34,
     "metadata": {},
     "output_type": "execute_result"
    }
   ],
   "source": [
    "df.head()"
   ]
  },
  {
   "cell_type": "code",
   "execution_count": 35,
   "id": "2a52d6bf",
   "metadata": {},
   "outputs": [
    {
     "name": "stderr",
     "output_type": "stream",
     "text": [
      "[nltk_data] Downloading package stopwords to C:\\Users\\Sina's\n",
      "[nltk_data]     Pc/nltk_data...\n",
      "[nltk_data]   Package stopwords is already up-to-date!\n"
     ]
    },
    {
     "data": {
      "text/plain": [
       "True"
      ]
     },
     "execution_count": 35,
     "metadata": {},
     "output_type": "execute_result"
    }
   ],
   "source": [
    "import nltk\n",
    "nltk.download('stopwords') "
   ]
  },
  {
   "cell_type": "code",
   "execution_count": 36,
   "id": "02c27f14",
   "metadata": {},
   "outputs": [],
   "source": [
    "import re\n",
    "from nltk.corpus import stopwords\n",
    "from nltk.stem import PorterStemmer"
   ]
  },
  {
   "cell_type": "code",
   "execution_count": 37,
   "id": "4bb0b521",
   "metadata": {},
   "outputs": [],
   "source": [
    "stop_words = set(stopwords.words('english'))\n",
    "stemmer = PorterStemmer()"
   ]
  },
  {
   "cell_type": "code",
   "execution_count": 38,
   "id": "d86f9e07",
   "metadata": {},
   "outputs": [
    {
     "data": {
      "text/plain": [
       "198"
      ]
     },
     "execution_count": 38,
     "metadata": {},
     "output_type": "execute_result"
    }
   ],
   "source": [
    "len(stop_words)"
   ]
  },
  {
   "cell_type": "code",
   "execution_count": 39,
   "id": "788b070c",
   "metadata": {},
   "outputs": [],
   "source": [
    "def preprocess_text(text):\n",
    "    text = re.sub('<.*?>', ' ', text)\n",
    "    text = re.sub('[^a-zA-Z]', ' ', text)\n",
    "    text = text.lower()\n",
    "    words = [w for w in text.split() if w not in stop_words]\n",
    "    words = [stemmer.stem(w) for w in words]\n",
    "    return ' '.join(words)"
   ]
  },
  {
   "cell_type": "code",
   "execution_count": 40,
   "id": "a440b74d",
   "metadata": {},
   "outputs": [],
   "source": [
    "cleaned = []\n",
    "for review in df['review']:\n",
    "    cleaned.append(preprocess_text(review))"
   ]
  },
  {
   "cell_type": "code",
   "execution_count": 41,
   "id": "efb1b7ea",
   "metadata": {},
   "outputs": [],
   "source": [
    "df['clean_review'] = cleaned"
   ]
  },
  {
   "cell_type": "code",
   "execution_count": 42,
   "id": "d09f34a3",
   "metadata": {},
   "outputs": [],
   "source": [
    "from sklearn.model_selection import train_test_split"
   ]
  },
  {
   "cell_type": "code",
   "execution_count": 43,
   "id": "80878715",
   "metadata": {},
   "outputs": [],
   "source": [
    "X_train, X_test, y_train, y_test = train_test_split(df['clean_review'], df['sentiment'], test_size=0.2, random_state=42)"
   ]
  },
  {
   "cell_type": "code",
   "execution_count": 55,
   "id": "d10fe13c",
   "metadata": {},
   "outputs": [
    {
     "name": "stdout",
     "output_type": "stream",
     "text": [
      "۵۰ کلمه اول: ['kept', 'ask', 'mani', 'fight', 'scream', 'match', 'swear', 'gener', 'mayhem', 'permeat', 'minut', 'comparison', 'also', 'stand', 'think', 'one', 'dimension', 'charact', 'littl', 'depth', 'virtual', 'imposs', 'care', 'happen', 'badli', 'written', 'cypher', 'director', 'hang', 'belief', 'topic', 'done', 'much', 'better', 'drama', 'tv', 'cinema', 'must', 'confess', 'realli', 'spot', 'bad', 'perform', 'film', 'said', 'nichola', 'heroin', 'slutti', 'best', 'friend']\n",
      "20000\n"
     ]
    }
   ],
   "source": [
    "from sklearn.feature_extraction.text import CountVectorizer\n",
    "\n",
    "vectorizer_cv = CountVectorizer(max_features=20000)\n",
    "vectorizer_cv.fit(X_train)\n",
    "\n",
    "words = list(vectorizer_cv.vocabulary_.keys())\n",
    "print(f\"۵۰ کلمه اول: {words[:50]}\")\n",
    "print(len(vectorizer_cv.vocabulary_))"
   ]
  },
  {
   "cell_type": "code",
   "execution_count": 56,
   "id": "5dca5aa1",
   "metadata": {},
   "outputs": [],
   "source": [
    "X_train_cv =vectorizer_cv.transform(X_train)\n",
    "X_test_cv  = vectorizer_cv.transform(X_test)"
   ]
  },
  {
   "cell_type": "code",
   "execution_count": 57,
   "id": "fec476d8",
   "metadata": {},
   "outputs": [
    {
     "data": {
      "text/plain": [
       "<Compressed Sparse Row sparse matrix of dtype 'int64'\n",
       "\twith 3635036 stored elements and shape (40000, 20000)>"
      ]
     },
     "execution_count": 57,
     "metadata": {},
     "output_type": "execute_result"
    }
   ],
   "source": [
    "X_train_cv"
   ]
  },
  {
   "cell_type": "code",
   "execution_count": 58,
   "id": "bffc1f24",
   "metadata": {},
   "outputs": [
    {
     "name": "stdout",
     "output_type": "stream",
     "text": [
      "۵۰ کلمه اول: ['kept', 'ask', 'mani', 'fight', 'scream', 'match', 'swear', 'gener', 'mayhem', 'permeat', 'minut', 'comparison', 'also', 'stand', 'think', 'one', 'dimension', 'charact', 'littl', 'depth', 'virtual', 'imposs', 'care', 'happen', 'badli', 'written', 'cypher', 'director', 'hang', 'belief', 'topic', 'done', 'much', 'better', 'drama', 'tv', 'cinema', 'must', 'confess', 'realli', 'spot', 'bad', 'perform', 'film', 'said', 'nichola', 'heroin', 'slutti', 'best', 'friend']\n",
      "20000\n"
     ]
    }
   ],
   "source": [
    "from sklearn.feature_extraction.text import TfidfVectorizer\n",
    "\n",
    "vectorizer_tfidf = TfidfVectorizer(max_features=20000)\n",
    "\n",
    "vectorizer_tfidf.fit(X_train)\n",
    "\n",
    "words = list(vectorizer_cv.vocabulary_.keys())\n",
    "print(f\"۵۰ کلمه اول: {words[:50]}\")\n",
    "print(len(vectorizer_cv.vocabulary_))"
   ]
  },
  {
   "cell_type": "code",
   "execution_count": 59,
   "id": "be6935a0",
   "metadata": {},
   "outputs": [],
   "source": [
    "X_train_tfidf = vectorizer_tfidf.transform(X_train)\n",
    "X_test_tfidf  = vectorizer_tfidf.transform(X_test)"
   ]
  },
  {
   "cell_type": "code",
   "execution_count": 60,
   "id": "7371582a",
   "metadata": {},
   "outputs": [
    {
     "data": {
      "text/plain": [
       "<Compressed Sparse Row sparse matrix of dtype 'float64'\n",
       "\twith 3635036 stored elements and shape (40000, 20000)>"
      ]
     },
     "execution_count": 60,
     "metadata": {},
     "output_type": "execute_result"
    }
   ],
   "source": [
    "X_train_tfidf"
   ]
  },
  {
   "cell_type": "markdown",
   "id": "f720c8a2",
   "metadata": {},
   "source": [
    "Multinomial Naive Bayes"
   ]
  },
  {
   "cell_type": "code",
   "execution_count": 89,
   "id": "1057f7cf",
   "metadata": {},
   "outputs": [],
   "source": [
    "from sklearn.naive_bayes import MultinomialNB\n",
    "from sklearn.metrics import accuracy_score, confusion_matrix\n",
    "import matplotlib.pyplot as plt"
   ]
  },
  {
   "cell_type": "code",
   "execution_count": null,
   "id": "4a3c83d1",
   "metadata": {},
   "outputs": [],
   "source": [
    "nb_cv = MultinomialNB()\n",
    "nb_cv.fit(X_train_cv, y_train)\n",
    "y_pred_nb_cv = nb_cv.predict(X_test_cv)"
   ]
  },
  {
   "cell_type": "code",
   "execution_count": 78,
   "id": "dd786b17",
   "metadata": {},
   "outputs": [
    {
     "name": "stdout",
     "output_type": "stream",
     "text": [
      "Accuracy: 0.854\n",
      "[[4312  649]\n",
      " [ 811 4228]]\n"
     ]
    }
   ],
   "source": [
    "acc_nb_cv = accuracy_score(y_test, y_pred_nb_cv)\n",
    "cm_nb_cv  = confusion_matrix(y_test, y_pred_nb_cv)\n",
    "\n",
    "print(\"Accuracy:\", acc_nb_cv)\n",
    "print( cm_nb_cv)"
   ]
  },
  {
   "cell_type": "code",
   "execution_count": 68,
   "id": "99105e6b",
   "metadata": {},
   "outputs": [],
   "source": [
    "nb_tfidf = MultinomialNB()\n",
    "nb_tfidf.fit(X_train_tfidf, y_train)\n",
    "y_pred_nb_tfidf = nb_tfidf.predict(X_test_tfidf)"
   ]
  },
  {
   "cell_type": "code",
   "execution_count": 82,
   "id": "540f505a",
   "metadata": {},
   "outputs": [
    {
     "name": "stdout",
     "output_type": "stream",
     "text": [
      "Accuracy: 0.8588\n",
      "[[4279  682]\n",
      " [ 730 4309]]\n"
     ]
    }
   ],
   "source": [
    "acc_nb_tf = accuracy_score(y_test, y_pred_nb_tfidf)\n",
    "cm_nb_tf  = confusion_matrix(y_test, y_pred_nb_tfidf)\n",
    "\n",
    "print(\"Accuracy:\", acc_nb_tf)\n",
    "print( cm_nb_tf)\n"
   ]
  },
  {
   "cell_type": "markdown",
   "id": "fbc490a3",
   "metadata": {},
   "source": [
    " Logistic Regression"
   ]
  },
  {
   "cell_type": "code",
   "execution_count": 83,
   "id": "b1474558",
   "metadata": {},
   "outputs": [],
   "source": [
    "from sklearn.linear_model import LogisticRegression"
   ]
  },
  {
   "cell_type": "code",
   "execution_count": 84,
   "id": "3c7ac4c4",
   "metadata": {},
   "outputs": [],
   "source": [
    "lr_cv = LogisticRegression(max_iter=1000)\n",
    "lr_cv.fit(X_train_cv, y_train)\n",
    "y_pred_lr_cv = lr_cv.predict(X_test_cv)"
   ]
  },
  {
   "cell_type": "code",
   "execution_count": 85,
   "id": "7d333292",
   "metadata": {},
   "outputs": [
    {
     "name": "stdout",
     "output_type": "stream",
     "text": [
      "Accuracy: 0.8785\n",
      "Confusion Matrix:\n",
      " [[4302  659]\n",
      " [ 556 4483]]\n"
     ]
    }
   ],
   "source": [
    "acc_lr_cv = accuracy_score(y_test, y_pred_lr_cv)\n",
    "cm_lr_cv  = confusion_matrix(y_test, y_pred_lr_cv)\n",
    "\n",
    "\n",
    "print(\"Accuracy:\", acc_lr_cv)\n",
    "print(\"Confusion Matrix:\\n\", cm_lr_cv)\n"
   ]
  },
  {
   "cell_type": "code",
   "execution_count": 86,
   "id": "6d7d4187",
   "metadata": {},
   "outputs": [],
   "source": [
    "lr_tfidf = LogisticRegression(max_iter=1000)\n",
    "lr_tfidf.fit(X_train_tfidf, y_train)\n",
    "y_pred_lr_tfidf = lr_tfidf.predict(X_test_tfidf)"
   ]
  },
  {
   "cell_type": "code",
   "execution_count": 88,
   "id": "1e377a08",
   "metadata": {},
   "outputs": [
    {
     "name": "stdout",
     "output_type": "stream",
     "text": [
      " Accuracy: 0.8916\n",
      "Confusion Matrix:\n",
      " [[4346  615]\n",
      " [ 469 4570]]\n"
     ]
    }
   ],
   "source": [
    "acc_lr_tfidf = accuracy_score(y_test, y_pred_lr_tfidf)\n",
    "cm_lr_tfidf  = confusion_matrix(y_test, y_pred_lr_tfidf)\n",
    "\n",
    "\n",
    "print(\" Accuracy:\", acc_lr_tfidf)\n",
    "print(\"Confusion Matrix:\\n\", cm_lr_tfidf)\n",
    "\n"
   ]
  },
  {
   "cell_type": "markdown",
   "id": "6a6aef85",
   "metadata": {},
   "source": [
    "Predict New review"
   ]
  },
  {
   "cell_type": "code",
   "execution_count": 120,
   "id": "ce1fdc66",
   "metadata": {},
   "outputs": [],
   "source": [
    "new_review = \"Notbad\"\n"
   ]
  },
  {
   "cell_type": "code",
   "execution_count": 121,
   "id": "cff57fb8",
   "metadata": {},
   "outputs": [],
   "source": [
    "new_review = [preprocess_text(new_review)]"
   ]
  },
  {
   "cell_type": "code",
   "execution_count": 122,
   "id": "99e4b7e5",
   "metadata": {},
   "outputs": [],
   "source": [
    "new_review_vectorized_cv = vectorizer_cv.transform(new_review)\n",
    "new_review_vectorized_tf = vectorizer_tfidf.transform(new_review)"
   ]
  },
  {
   "cell_type": "code",
   "execution_count": 123,
   "id": "9a3c0ecc",
   "metadata": {},
   "outputs": [
    {
     "name": "stdout",
     "output_type": "stream",
     "text": [
      "nbcv: negative\n",
      "lgcv: positive\n",
      "nbtf: negative\n",
      "lgtf: negative\n"
     ]
    }
   ],
   "source": [
    "prediction_nbcv = nb_cv.predict(new_review_vectorized_cv)\n",
    "prediction_lgcv = lr_cv.predict(new_review_vectorized_cv)\n",
    "prediction_nbtf = nb_tfidf.predict(new_review_vectorized_tf)\n",
    "prediction_lgtf = lr_tfidf.predict(new_review_vectorized_tf)\n",
    "\n",
    "\n",
    "print(\"nbcv:\", prediction_nbcv[0])\n",
    "print(\"lgcv:\", prediction_lgcv[0])\n",
    "print(\"nbtf:\", prediction_nbtf[0])\n",
    "print(\"lgtf:\", prediction_lgtf[0])\n"
   ]
  }
 ],
 "metadata": {
  "kernelspec": {
   "display_name": "env",
   "language": "python",
   "name": "python3"
  },
  "language_info": {
   "codemirror_mode": {
    "name": "ipython",
    "version": 3
   },
   "file_extension": ".py",
   "mimetype": "text/x-python",
   "name": "python",
   "nbconvert_exporter": "python",
   "pygments_lexer": "ipython3",
   "version": "3.10.10"
  }
 },
 "nbformat": 4,
 "nbformat_minor": 5
}
